{
  "nbformat": 4,
  "nbformat_minor": 0,
  "metadata": {
    "colab": {
      "name": "geopy geocoders Nominatim.ipynb",
      "provenance": [],
      "collapsed_sections": [],
      "authorship_tag": "ABX9TyOH8zky1Y+RAhsFJRqSsQr6",
      "include_colab_link": true
    },
    "kernelspec": {
      "name": "python3",
      "display_name": "Python 3"
    },
    "language_info": {
      "name": "python"
    }
  },
  "cells": [
    {
      "cell_type": "markdown",
      "metadata": {
        "id": "view-in-github",
        "colab_type": "text"
      },
      "source": [
        "<a href=\"https://colab.research.google.com/github/ciepielajan/Geopy-/blob/main/geopy_geocoders_Nominatim.ipynb\" target=\"_parent\"><img src=\"https://colab.research.google.com/assets/colab-badge.svg\" alt=\"Open In Colab\"/></a>"
      ]
    },
    {
      "cell_type": "code",
      "metadata": {
        "id": "NOE4-BjLunR0"
      },
      "source": [
        "from geopy.geocoders import Nominatim\n",
        "from geopy.distance import geodesic\n",
        " \n",
        "import pandas as pd\n",
        " \n",
        "geolocator = Nominatim(user_agent=\"miroslawmamczur.pl\")\n",
        " \n",
        "def geo_near(adress, tag, limit=10):\n",
        "    # zdefiniowanie dataframe\n",
        "    df = pd.DataFrame(columns = ['Name', 'distance'])\n",
        "    # geolokalizacja adresu\n",
        "    location = geolocator.geocode(adress, exactly_one=False)\n",
        "    # geo najbliższych rzeczy oznaczonych w OSM jako tags\n",
        "    location_near = geolocator.geocode(tag+' near ' + adress, \n",
        "                                       exactly_one=False,\n",
        "                                       addressdetails=True, \n",
        "                                       extratags=True, \n",
        "                                       limit=limit)\n",
        " \n",
        "    if location_near is None:\n",
        "        print('Nic nie znalazłem :(')\n",
        "    else:\n",
        "        for i in range(len(location_near)):\n",
        "            df.loc[i] = [location_near[i][0].split(',', 1)[0],\n",
        "                         round(geodesic(location[0][1], \n",
        "                                        location_near[i][1]).km,2)]\n",
        "             \n",
        "    return df.sort_values(by='distance').reset_index(drop=True)"
      ],
      "execution_count": null,
      "outputs": []
    },
    {
      "cell_type": "code",
      "metadata": {
        "colab": {
          "base_uri": "https://localhost:8080/",
          "height": 348
        },
        "id": "XLCWJrGGvEpN",
        "outputId": "5a80f9fc-020c-4b15-83ac-fa505be5a748"
      },
      "source": [
        "adress = 'liściasta 10, kraków'\n",
        "tag = 'school'\n",
        " \n",
        "geo_near(adress, tag)"
      ],
      "execution_count": null,
      "outputs": [
        {
          "output_type": "execute_result",
          "data": {
            "text/html": [
              "<div>\n",
              "<style scoped>\n",
              "    .dataframe tbody tr th:only-of-type {\n",
              "        vertical-align: middle;\n",
              "    }\n",
              "\n",
              "    .dataframe tbody tr th {\n",
              "        vertical-align: top;\n",
              "    }\n",
              "\n",
              "    .dataframe thead th {\n",
              "        text-align: right;\n",
              "    }\n",
              "</style>\n",
              "<table border=\"1\" class=\"dataframe\">\n",
              "  <thead>\n",
              "    <tr style=\"text-align: right;\">\n",
              "      <th></th>\n",
              "      <th>Name</th>\n",
              "      <th>distance</th>\n",
              "    </tr>\n",
              "  </thead>\n",
              "  <tbody>\n",
              "    <tr>\n",
              "      <th>0</th>\n",
              "      <td>Szkoła Podstawowa nr 40</td>\n",
              "      <td>0.43</td>\n",
              "    </tr>\n",
              "    <tr>\n",
              "      <th>1</th>\n",
              "      <td>Niepubliczna Chrześcijańska Szkoła Podstawowa ...</td>\n",
              "      <td>0.72</td>\n",
              "    </tr>\n",
              "    <tr>\n",
              "      <th>2</th>\n",
              "      <td>Szkoła Podstawowa nr 49 imienia Juliana Ursyna...</td>\n",
              "      <td>0.96</td>\n",
              "    </tr>\n",
              "    <tr>\n",
              "      <th>3</th>\n",
              "      <td>Szkoła Podstawowa z Oddziałami Integracyjnymi ...</td>\n",
              "      <td>1.07</td>\n",
              "    </tr>\n",
              "    <tr>\n",
              "      <th>4</th>\n",
              "      <td>Szkoła Podstawowa z Oddziałami Integracyjnymi ...</td>\n",
              "      <td>1.19</td>\n",
              "    </tr>\n",
              "    <tr>\n",
              "      <th>5</th>\n",
              "      <td>Szkoła Podstawowa numer 53</td>\n",
              "      <td>1.56</td>\n",
              "    </tr>\n",
              "    <tr>\n",
              "      <th>6</th>\n",
              "      <td>Open Future International School</td>\n",
              "      <td>2.09</td>\n",
              "    </tr>\n",
              "    <tr>\n",
              "      <th>7</th>\n",
              "      <td>Centrum Edukacji Graceland</td>\n",
              "      <td>2.14</td>\n",
              "    </tr>\n",
              "    <tr>\n",
              "      <th>8</th>\n",
              "      <td>Szkoła Podstawowa nr 62</td>\n",
              "      <td>2.17</td>\n",
              "    </tr>\n",
              "    <tr>\n",
              "      <th>9</th>\n",
              "      <td>Publiczna Szkoła Podstawowa nr 97 w Krakowie i...</td>\n",
              "      <td>2.44</td>\n",
              "    </tr>\n",
              "  </tbody>\n",
              "</table>\n",
              "</div>"
            ],
            "text/plain": [
              "                                                Name  distance\n",
              "0                            Szkoła Podstawowa nr 40      0.43\n",
              "1  Niepubliczna Chrześcijańska Szkoła Podstawowa ...      0.72\n",
              "2  Szkoła Podstawowa nr 49 imienia Juliana Ursyna...      0.96\n",
              "3  Szkoła Podstawowa z Oddziałami Integracyjnymi ...      1.07\n",
              "4  Szkoła Podstawowa z Oddziałami Integracyjnymi ...      1.19\n",
              "5                         Szkoła Podstawowa numer 53      1.56\n",
              "6                   Open Future International School      2.09\n",
              "7                         Centrum Edukacji Graceland      2.14\n",
              "8                            Szkoła Podstawowa nr 62      2.17\n",
              "9  Publiczna Szkoła Podstawowa nr 97 w Krakowie i...      2.44"
            ]
          },
          "metadata": {
            "tags": []
          },
          "execution_count": 4
        }
      ]
    },
    {
      "cell_type": "code",
      "metadata": {
        "colab": {
          "base_uri": "https://localhost:8080/",
          "height": 348
        },
        "id": "ta_fqnfivU7u",
        "outputId": "6b104d84-e293-4281-fcda-1565e8a569e5"
      },
      "source": [
        "adress = 'warszawa'\n",
        "tag = 'subway'\n",
        " \n",
        "geo_near(adress, tag)"
      ],
      "execution_count": null,
      "outputs": [
        {
          "output_type": "execute_result",
          "data": {
            "text/html": [
              "<div>\n",
              "<style scoped>\n",
              "    .dataframe tbody tr th:only-of-type {\n",
              "        vertical-align: middle;\n",
              "    }\n",
              "\n",
              "    .dataframe tbody tr th {\n",
              "        vertical-align: top;\n",
              "    }\n",
              "\n",
              "    .dataframe thead th {\n",
              "        text-align: right;\n",
              "    }\n",
              "</style>\n",
              "<table border=\"1\" class=\"dataframe\">\n",
              "  <thead>\n",
              "    <tr style=\"text-align: right;\">\n",
              "      <th></th>\n",
              "      <th>Name</th>\n",
              "      <th>distance</th>\n",
              "    </tr>\n",
              "  </thead>\n",
              "  <tbody>\n",
              "    <tr>\n",
              "      <th>0</th>\n",
              "      <td>Subway</td>\n",
              "      <td>0.44</td>\n",
              "    </tr>\n",
              "    <tr>\n",
              "      <th>1</th>\n",
              "      <td>Subway</td>\n",
              "      <td>0.49</td>\n",
              "    </tr>\n",
              "    <tr>\n",
              "      <th>2</th>\n",
              "      <td>Subway</td>\n",
              "      <td>0.53</td>\n",
              "    </tr>\n",
              "    <tr>\n",
              "      <th>3</th>\n",
              "      <td>Subway</td>\n",
              "      <td>0.57</td>\n",
              "    </tr>\n",
              "    <tr>\n",
              "      <th>4</th>\n",
              "      <td>Subway</td>\n",
              "      <td>1.42</td>\n",
              "    </tr>\n",
              "    <tr>\n",
              "      <th>5</th>\n",
              "      <td>Subway</td>\n",
              "      <td>5.99</td>\n",
              "    </tr>\n",
              "    <tr>\n",
              "      <th>6</th>\n",
              "      <td>Subway</td>\n",
              "      <td>6.77</td>\n",
              "    </tr>\n",
              "    <tr>\n",
              "      <th>7</th>\n",
              "      <td>Subway</td>\n",
              "      <td>6.94</td>\n",
              "    </tr>\n",
              "    <tr>\n",
              "      <th>8</th>\n",
              "      <td>Subway</td>\n",
              "      <td>8.64</td>\n",
              "    </tr>\n",
              "    <tr>\n",
              "      <th>9</th>\n",
              "      <td>Subway</td>\n",
              "      <td>8.73</td>\n",
              "    </tr>\n",
              "  </tbody>\n",
              "</table>\n",
              "</div>"
            ],
            "text/plain": [
              "     Name  distance\n",
              "0  Subway      0.44\n",
              "1  Subway      0.49\n",
              "2  Subway      0.53\n",
              "3  Subway      0.57\n",
              "4  Subway      1.42\n",
              "5  Subway      5.99\n",
              "6  Subway      6.77\n",
              "7  Subway      6.94\n",
              "8  Subway      8.64\n",
              "9  Subway      8.73"
            ]
          },
          "metadata": {
            "tags": []
          },
          "execution_count": 5
        }
      ]
    },
    {
      "cell_type": "code",
      "metadata": {
        "colab": {
          "base_uri": "https://localhost:8080/"
        },
        "id": "I18Z-vhov5Bi",
        "outputId": "8665363f-3371-41e6-978b-86795525a892"
      },
      "source": [
        "from geopy.geocoders import Nominatim\n",
        " \n",
        "geolocator = Nominatim(user_agent=\"nauka.pl\")\n",
        "\n",
        "adress = 'Wrocław Rynek 9'\n",
        "location = geolocator.geocode(adress)\n",
        "location"
      ],
      "execution_count": null,
      "outputs": [
        {
          "output_type": "execute_result",
          "data": {
            "text/plain": [
              "Location(Santander, 9-11, Rynek, Dzielnica Czterech Świątyń, Osiedle Stare Miasto, Wrocław, województwo dolnośląskie, 50-106, Polska, (51.1098784, 17.0301279, 0.0))"
            ]
          },
          "metadata": {
            "tags": []
          },
          "execution_count": 10
        }
      ]
    },
    {
      "cell_type": "code",
      "metadata": {
        "id": "I_Tbn9YewCK8"
      },
      "source": [
        ""
      ],
      "execution_count": null,
      "outputs": []
    }
  ]
}